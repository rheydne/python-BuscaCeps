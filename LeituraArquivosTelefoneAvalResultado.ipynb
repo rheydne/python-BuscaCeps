{
 "cells": [
  {
   "cell_type": "code",
   "execution_count": 2,
   "metadata": {},
   "outputs": [],
   "source": [
    "import pandas as pd\n",
    "import os\n",
    "import pyodbc\n",
    "import numpy as np\n",
    "import re\n",
    "import shutil\n",
    "import matplotlib.pyplot as plt"
   ]
  },
  {
   "cell_type": "code",
   "execution_count": 6,
   "metadata": {},
   "outputs": [],
   "source": [
    "sqlgdncli = pyodbc.connect(\"DRIVER={SQL Server};SERVER=SQLGDNCLI;DATABASE=WORKSPACE;Trusted_Connection=yes\")"
   ]
  },
  {
   "cell_type": "code",
   "execution_count": 8,
   "metadata": {},
   "outputs": [],
   "source": [
    "# Função para ler todos os arquivos\n",
    "\n",
    "def ReadFiles(path, name_file):\n",
    "    \n",
    "    file = f'{path}{name_file}'\n",
    "\n",
    "    names = [\n",
    "        'CPF',\n",
    "        'NOME',\n",
    "        'NASC',\n",
    "        'NOME_MAE',\n",
    "        'SEXO',\n",
    "        'SIGNO',\n",
    "        'RENDA',\n",
    "        'ESTADOCIVIL',\n",
    "        'CBO',\n",
    "        'DESCRICAO_CBO',\n",
    "        'ESCOLARIDADE',\n",
    "        'DESCRICAO_ESCOLARIDADE',\n",
    "        'TIPO',\n",
    "        'TITULO',\n",
    "        'LOGRADOURO',\n",
    "        'NUMERO',\n",
    "        'COMPLEMENTO',\n",
    "        'BAIRRO',\n",
    "        'CIDADE',\n",
    "        'UF',\n",
    "        'CEP',\n",
    "        'DDD1',\n",
    "        'FONE1',\n",
    "        'TIPO1',\n",
    "        'DDD2',\n",
    "        'FONE2',\n",
    "        'TIPO2',\n",
    "        'DDD3',\n",
    "        'FONE3',\n",
    "        'TIPO3',\n",
    "        'DDD4',\n",
    "        'FONE4',\n",
    "        'TIPO4',\n",
    "        'DDD5',\n",
    "        'FONE5',\n",
    "        'TIPO5',\n",
    "        'DDD6',\n",
    "        'FONE6',\n",
    "        'TIPO6',\n",
    "        'DDD7',\n",
    "        'FONE7',\n",
    "        'TIPO7',\n",
    "        'DDD8',\n",
    "        'FONE8',\n",
    "        'TIPO8',\n",
    "        'EMAIL_1',\n",
    "        'EMAIL_2',\n",
    "        'EMAIL_3',\n",
    "    ]\n",
    "\n",
    "    # Necessario trocar o separador, pois existem arquivos com separadores diferentes\n",
    "    df = pd.read_csv(file, sep=';', names = names, header=None, skiprows = 1, index_col = False, encoding='ISO-8859-1')\n",
    "\n",
    "    # Substituir NaN por 'Desconhecido'\n",
    "    df['ESTADOCIVIL'].fillna('Desconhecido', inplace=True)\n",
    "\n",
    "    # Utilizar expressão regular para encontrar o ano\n",
    "    padrao = r'\\\\(\\d{4})\\\\'\n",
    "    correspondencia = re.search(padrao, path)\n",
    "    \n",
    "    ano = correspondencia.group(1)\n",
    "        \n",
    "    df['CAMINHO'] = file\n",
    "    df['ARQUIVO'] = name_file\n",
    "    df['ANO'] = ano\n",
    "\n",
    "    return df"
   ]
  },
  {
   "cell_type": "code",
   "execution_count": null,
   "metadata": {},
   "outputs": [],
   "source": [
    "# Concatena todos os arquivos de diferentes pastas em um DF (Arquivos com separador \"|\")\n",
    "\n",
    "path_geral = 'I:\\\\Crescimento\\\\Temporário\\\\Rheydne\\\\Python\\LeituraArquivosTelefone\\\\Arquivos\\\\'\n",
    "nome_pastas = os.listdir(path_geral)\n",
    "var = 0\n",
    "\n",
    "for i in nome_pastas:\n",
    "    path = f'{path_geral}{i}\\\\'\n",
    "\n",
    "    # Lista com o nome de cada arquivo do Path\n",
    "    name_file = os.listdir(path)\n",
    "\n",
    "    # estrutura para concatenar cada arquivo em um DF unico\n",
    "    for i, y in enumerate(name_file):\n",
    "\n",
    "        df = ReadFiles(path, y)\n",
    "\n",
    "        if(var == 0):\n",
    "            df_final = df\n",
    "            var = 1\n",
    "        else:\n",
    "            df_final = pd.concat([df_final, df])"
   ]
  },
  {
   "cell_type": "code",
   "execution_count": null,
   "metadata": {},
   "outputs": [],
   "source": [
    "# Arquivos com separador \";\"\n",
    "\n",
    "path = 'I:\\\\Crescimento\\\\Temporário\\\\Rheydne\\\\Python\\\\LeituraArquivosTelefone\\\\Formatos diferentes\\\\2023\\\\'\n",
    "nome_pastas = os.listdir(path)\n",
    "\n",
    "# estrutura para concatenar cada arquivo em um DF unico\n",
    "for i, y in enumerate(nome_pastas):\n",
    "\n",
    "    df = ReadFiles(path, y)\n",
    "\n",
    "    df_final = pd.concat([df_final, df])"
   ]
  },
  {
   "cell_type": "code",
   "execution_count": null,
   "metadata": {},
   "outputs": [],
   "source": [
    "# Remove da pasta os arquivos com formatos diferentes\n",
    "\n",
    "avaliar = df_final[df_final['NOME'].isnull()]\n",
    "avaliar = avaliar['ARQUIVO'].unique()\n",
    "\n",
    "caminho_origem = 'I:\\\\Crescimento\\\\Temporário\\\\Rheydne\\\\Python\\LeituraArquivosTelefone\\\\Arquivos\\\\2023\\\\'\n",
    "caminho_destino = 'I:\\\\Crescimento\\\\Temporário\\\\Rheydne\\\\Python\\\\LeituraArquivosTelefone\\\\'\n",
    "\n",
    "for i in avaliar:\n",
    "    caminho = f'{caminho_origem}{i}'\n",
    "    shutil.move(caminho, caminho_destino)"
   ]
  },
  {
   "cell_type": "code",
   "execution_count": 13,
   "metadata": {},
   "outputs": [],
   "source": [
    "# Insert Dataframe into SQL Server:\n",
    "\n",
    "cursor = sqlgdncli.cursor()\n",
    "df_final = df_final.astype(str)\n",
    "cont = 0\n",
    "\n",
    "for index, row in df_final.iterrows():\n",
    "\n",
    "        cont = cont + 1\n",
    "        cursor.execute('''\n",
    "                INSERT INTO TE_DADOS_ENRIQ_TELEFONES_ALERTAKI \n",
    "                        (CPF,NOME,NASC,NOME_MAE,SEXO,SIGNO,RENDA,ESTADOCIVIL,CBO,DESCRICAO_CBO,ESCOLARIDADE,DESCRICAO_ESCOLARIDADE,\n",
    "                        TIPO,TITULO,LOGRADOURO,NUMERO,COMPLEMENTO,BAIRRO,CIDADE,UF,CEP,DDD1,FONE1,TIPO1,DDD2,FONE2,TIPO2,DDD3,FONE3,\n",
    "                        TIPO3,DDD4,FONE4,TIPO4,DDD5,FONE5,TIPO5,DDD6,FONE6,TIPO6,DDD7,FONE7,TIPO7,DDD8,FONE8,TIPO8,EMAIL_1,EMAIL_2,\n",
    "                        EMAIL_3,CAMINHO,ARQUIVO,ANO) \n",
    "                VALUES \n",
    "                        (?,?,?,?,?,?,?,?,?,?,?,?,?,?,?,?,?,?,?,?,?,?,?,?,?,?,?,?,?,?,?,?,?,?,?,?,?,?,?,?,?,?,?,?,?,?,?,?,?,?,?)''',\n",
    "                row.CPF, row.NOME, row.NASC, row.NOME_MAE, row.SEXO, row.SIGNO, row.RENDA, row.ESTADOCIVIL, row.CBO, row.DESCRICAO_CBO,\n",
    "                row.ESCOLARIDADE, row.DESCRICAO_ESCOLARIDADE, row.TIPO, row.TITULO, row.LOGRADOURO, row.NUMERO, row.COMPLEMENTO, row.BAIRRO,\n",
    "                row.CIDADE, row.UF, row.CEP, row.DDD1, row.FONE1, row.TIPO1, row.DDD2, row.FONE2, row.TIPO2, row.DDD3, row.FONE3, row.TIPO3,\n",
    "                row.DDD4, row.FONE4, row.TIPO4, row.DDD5, row.FONE5, row.TIPO5, row.DDD6, row.FONE6, row.TIPO6, row.DDD7, row.FONE7, row.TIPO7,\n",
    "                row.DDD8, row.FONE8, row.TIPO8, row.EMAIL_1, row.EMAIL_2, row.EMAIL_3, row.CAMINHO, row.ARQUIVO, row.ANO\n",
    "                )\n",
    "        \n",
    "        if cont > 10000:\n",
    "                sqlgdncli.commit()\n",
    "                cont = 0\n",
    "\n",
    "cursor.close()"
   ]
  },
  {
   "cell_type": "code",
   "execution_count": null,
   "metadata": {},
   "outputs": [],
   "source": [
    "#df_final.dropna(subset=['NOME'], inplace=True)\n",
    "#df_final[df_final['NOME'].isnull()]\n",
    "#df_final"
   ]
  },
  {
   "cell_type": "code",
   "execution_count": 25,
   "metadata": {},
   "outputs": [
    {
     "data": {
      "image/png": "[encoded data removed]",
      "text/plain": [
       "<Figure size 640x480 with 1 Axes>"
      ]
     },
     "metadata": {},
     "output_type": "display_data"
    }
   ],
   "source": [
    "# Avaliação Estado Civil\n",
    "\n",
    "# Contagem de pessoas por estado civil\n",
    "contagem_estado_civil = df_final['ESTADOCIVIL'].value_counts()\n",
    "\n",
    "# Calcular porcentagens\n",
    "porcentagens = (contagem_estado_civil / contagem_estado_civil.sum()) * 100\n",
    "\n",
    "# Gráfico de barras com porcentagens internas\n",
    "ax = contagem_estado_civil.plot(kind='bar', color='skyblue', edgecolor='black')\n",
    "plt.title('Quantidade de Pessoas por Estado Civil (Incluindo NaN)')\n",
    "plt.xlabel('Estado Civil')\n",
    "plt.ylabel('Quantidade')\n",
    "\n",
    "# Adicionar porcentagens internas nas barras\n",
    "for i, v in enumerate(contagem_estado_civil):\n",
    "    ax.text(i, v + 0.1, f'{porcentagens.iloc[i]:.1f}%', ha='center')\n",
    "\n",
    "plt.show()\n",
    "\n",
    "\n",
    "\n",
    "\n"
   ]
  },
  {
   "cell_type": "code",
   "execution_count": 27,
   "metadata": {},
   "outputs": [
    {
     "name": "stderr",
     "output_type": "stream",
     "text": [
      "C:\\Users\\B042304\\AppData\\Local\\Temp\\ipykernel_988\\965546932.py:39: UserWarning: pandas only supports SQLAlchemy connectable (engine/connection) or database string URI or sqlite3 DBAPI2 connection. Other DBAPI2 objects are not tested. Please consider using SQLAlchemy.\n",
      "  df_resultado = pd.read_sql_query(query, sqlgdncli)\n"
     ]
    }
   ],
   "source": [
    "cursor = sqlgdncli.cursor()\n",
    "\n",
    "query = '''\n",
    "        SELECT DISTINCT A.NUM_PES, B.ESTADOCIVIL\n",
    "        FROM [MERCANTIL\\\\b042304].[TE_ENRIQUECIMENTO_ESTADO_CIVIL] A\n",
    "        INNER JOIN (\n",
    "            SELECT DISTINCT NUM_PES, ESTADOCIVIL\n",
    "            FROM [MERCANTIL\\\\b042304].[TI_BENEF_FINAL]\n",
    "            WHERE ESTADOCIVIL IN ('CASADO')\n",
    "\n",
    "            UNION \n",
    "\n",
    "            SELECT DISTINCT NUM_PES, ESTADOCIVIL\n",
    "            FROM [MERCANTIL\\\\b042304].[TI_BENEF_FINAL]\n",
    "            WHERE ESTADOCIVIL IN ('UNIAO ESTAVEL')\n",
    "            AND NUM_PES NOT IN (\n",
    "                SELECT NUM_PES\n",
    "                FROM [MERCANTIL\\\\b042304].[TI_BENEF_FINAL]\n",
    "                WHERE ESTADOCIVIL IN ('CASADO')\n",
    "                )\n",
    "\n",
    "            UNION\n",
    "\n",
    "            SELECT DISTINCT B.NUM_PES, A.ESTADOCIVIL\n",
    "            FROM TE_DADOS_ENRIQ_TELEFONES_ALERTAKI A\n",
    "            INNER JOIN [SHARESPACE].[MERCANTIL\\Y041326].[TC_PERFIL_CLIENTE] B\n",
    "            ON A.CPF = B.CPF\n",
    "            WHERE ESTADOCIVIL = 'CASADO'\n",
    "            AND NUM_PES NOT IN (\n",
    "                SELECT DISTINCT NUM_PES\n",
    "                FROM [MERCANTIL\\\\b042304].[TI_BENEF_FINAL]\n",
    "                WHERE ESTADOCIVIL IN ('UNIAO ESTAVEL', 'CASADO')\n",
    "                )\n",
    "            ) B\n",
    "        ON A.NUM_PES = B.NUM_PES\n",
    "'''\n",
    "\n",
    "# Executar a consulta e ler o resultado em um DataFrame\n",
    "df_resultado = pd.read_sql_query(query, sqlgdncli)\n",
    "\n",
    "df_resultado['NUM_PES'] = df_resultado['NUM_PES'].astype(int)\n",
    "\n",
    "# Salvar o DataFrame em um arquivo CSV\n",
    "df_resultado.to_csv('enriquecimento_estadocivil.csv', index=False, sep=';')\n",
    "\n",
    "# Fechar a conexão\n",
    "cursor.close()\n"
   ]
  },
  {
   "cell_type": "code",
   "execution_count": 28,
   "metadata": {},
   "outputs": [
    {
     "name": "stdout",
     "output_type": "stream",
     "text": [
      "22638\n"
     ]
    },
    {
     "data": {
      "text/plain": [
       "22638"
      ]
     },
     "execution_count": 28,
     "metadata": {},
     "output_type": "execute_result"
    }
   ],
   "source": [
    "print(len(df_resultado))\n",
    "df_resultado['NUM_PES'].nunique()"
   ]
  }
 ],
 "metadata": {
  "kernelspec": {
   "display_name": "Python 3",
   "language": "python",
   "name": "python3"
  },
  "language_info": {
   "codemirror_mode": {
    "name": "ipython",
    "version": 3
   },
   "file_extension": ".py",
   "mimetype": "text/x-python",
   "name": "python",
   "nbconvert_exporter": "python",
   "pygments_lexer": "ipython3",
   "version": "3.11.3"
  }
 },
 "nbformat": 4,
 "nbformat_minor": 2
}
