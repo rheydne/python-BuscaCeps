{
 "cells": [
  {
   "cell_type": "code",
   "execution_count": 2,
   "metadata": {},
   "outputs": [
    {
     "name": "stdout",
     "output_type": "stream",
     "text": [
      "Initiating login request with your identity provider. A browser window should have opened for you to complete the login. If you can't see it, check existing browser windows, or your OS settings. Press CTRL+C to abort and try again...\n",
      "Going to open: https://login.microsoftonline.com/544ce133-0d39-4cbb-940b-1f0f28a88b59/saml2?SAMLRequest=lZJRb9sgGEX%2FisWebQNxMgfFqdxGXTO1W5o41bY3jHGKakPKh%2Bvm3484jdQ9tNLeLHwuHLjf7OK1bYIXaUEZnSESYRRILUyl9C5D2%2BI6TFEAjuuKN0bLDB0koIv5DHjb7FneuUe9ls%2BdBBf4jTSw4UeGOquZ4aCAad5KYE6wTX53y2iE2d4aZ4Rp0LvI5wkOIK3zhudIBcrrPTq3Z3Hc933UjyJjdzHFGMd4GnvqiHw586%2F%2BTh%2FwJMbJkfeEx1dvbpdKn57gM63yBAG7KYpVuPq5KVCQn1WvjIaulXYj7YsScru%2BPQmAN6hr%2FpWSdBJ1EEoOLiQRaNPXDX%2BSwrT7zvltI%2F8V17KKG7NT%2FubLRYb2T6q6ye8PD9t7%2BLaWdoefl0ZsRFpPfo2t%2BV18tzy%2FzCsqeF7eYYGCh3O19FjtEqCTS30s1PklTJMQT0KaFIQwShhOopQmf1Cw8IUqzd2QPFsPHlGrhDVgamd0o7QcLMdJIiQZjUJcjaZhIsoynCa4DEmNa5ryNC3H0%2FhYM0Wn0WGDiJ3%2F94PM4vfxtzH84ZtZLlamUeIQXBvbcvdxcSQiw4qqwnpAmWy5avKqshLAF9g0pr%2Bykjs%2F7c52EsXz06n%2Fzvv8Lw%3D%3D&RelayState=65418 to authenticate...\n"
     ]
    }
   ],
   "source": [
    "import snowflake.connector\n",
    "import os\n",
    "import pyodbc\n",
    "import pandas as pd\n",
    "import datetime\n",
    "\n",
    "account = 'ffa72186.us-east-1'\n",
    "\n",
    "user = 'B042304@MERCANTIL.COM.BR'\n",
    "password = 'trabalho@03T'\n",
    "\n",
    "warehouse = 'WH_DEV'\n",
    "database = 'SDX_GERENCIA_CRESCIMENTO'\n",
    "schema = 'CONHECIMENTO_CLIENTE_BRONZE'\n",
    "authenticator = 'externalbrowser'\n",
    "\n",
    "conn_snow = snowflake.connector.connect(\n",
    "    user=user,\n",
    "    authenticator=authenticator,\n",
    "    account=account,\n",
    "    warehouse=warehouse,\n",
    "    database=database,\n",
    "    schema=schema\n",
    ")\n",
    "\n",
    "cur_snow = conn_snow.cursor()\n",
    "\n",
    "# Conexão SQLGDNCLI\n",
    "server = 'SQLGDNCLI'\n",
    "database = 'WORKSPACE'\n",
    "driver = '{ODBC Driver 17 for SQL Server}'\n",
    "\n",
    "conn_cli = pyodbc.connect('DRIVER=' + driver + ';SERVER=' + server +\n",
    "                      ';DATABASE=' + database + ';Trusted_Connection=yes')\n",
    "# Cursor para executar comandos SQL\n",
    "cur_cli = conn_cli.cursor()\n",
    "\n",
    "# Conexão SQLGDNP\n",
    "server = 'SQLGDNP'\n",
    "database = 'SHARE'\n",
    "driver = '{ODBC Driver 17 for SQL Server}'\n",
    "\n",
    "conn_p = pyodbc.connect('DRIVER=' + driver + ';SERVER=' + server +\n",
    "                      ';DATABASE=' + database + ';Trusted_Connection=yes')\n",
    "# Cursor para executar comandos SQL\n",
    "cur_p = conn_p.cursor()"
   ]
  },
  {
   "cell_type": "code",
   "execution_count": 3,
   "metadata": {},
   "outputs": [
    {
     "name": "stderr",
     "output_type": "stream",
     "text": [
      "C:\\Users\\B042304\\AppData\\Local\\Temp\\ipykernel_17372\\1331809403.py:12: UserWarning: pandas only supports SQLAlchemy connectable (engine/connection) or database string URI or sqlite3 DBAPI2 connection. Other DBAPI2 objects are not tested. Please consider using SQLAlchemy.\n",
      "  df = pd.read_sql_query(query, conn_p, chunksize=200000)\n"
     ]
    },
    {
     "name": "stdout",
     "output_type": "stream",
     "text": [
      "2020   1  -  2024-06-24 14:00:25.350350\n"
     ]
    },
    {
     "name": "stderr",
     "output_type": "stream",
     "text": [
      "C:\\Users\\B042304\\AppData\\Local\\Temp\\ipykernel_17372\\1331809403.py:12: UserWarning: pandas only supports SQLAlchemy connectable (engine/connection) or database string URI or sqlite3 DBAPI2 connection. Other DBAPI2 objects are not tested. Please consider using SQLAlchemy.\n",
      "  df = pd.read_sql_query(query, conn_p, chunksize=200000)\n"
     ]
    },
    {
     "name": "stdout",
     "output_type": "stream",
     "text": [
      "2020   2  -  2024-06-24 17:10:23.824564\n"
     ]
    },
    {
     "name": "stderr",
     "output_type": "stream",
     "text": [
      "C:\\Users\\B042304\\AppData\\Local\\Temp\\ipykernel_17372\\1331809403.py:12: UserWarning: pandas only supports SQLAlchemy connectable (engine/connection) or database string URI or sqlite3 DBAPI2 connection. Other DBAPI2 objects are not tested. Please consider using SQLAlchemy.\n",
      "  df = pd.read_sql_query(query, conn_p, chunksize=200000)\n"
     ]
    },
    {
     "name": "stdout",
     "output_type": "stream",
     "text": [
      "2020   3  -  2024-06-24 19:11:29.896694\n"
     ]
    },
    {
     "name": "stderr",
     "output_type": "stream",
     "text": [
      "C:\\Users\\B042304\\AppData\\Local\\Temp\\ipykernel_17372\\1331809403.py:12: UserWarning: pandas only supports SQLAlchemy connectable (engine/connection) or database string URI or sqlite3 DBAPI2 connection. Other DBAPI2 objects are not tested. Please consider using SQLAlchemy.\n",
      "  df = pd.read_sql_query(query, conn_p, chunksize=200000)\n"
     ]
    },
    {
     "name": "stdout",
     "output_type": "stream",
     "text": [
      "2020   4  -  2024-06-24 21:39:50.208300\n"
     ]
    },
    {
     "name": "stderr",
     "output_type": "stream",
     "text": [
      "C:\\Users\\B042304\\AppData\\Local\\Temp\\ipykernel_17372\\1331809403.py:12: UserWarning: pandas only supports SQLAlchemy connectable (engine/connection) or database string URI or sqlite3 DBAPI2 connection. Other DBAPI2 objects are not tested. Please consider using SQLAlchemy.\n",
      "  df = pd.read_sql_query(query, conn_p, chunksize=200000)\n"
     ]
    },
    {
     "name": "stdout",
     "output_type": "stream",
     "text": [
      "2020   5  -  2024-06-24 23:08:39.147316\n"
     ]
    },
    {
     "name": "stderr",
     "output_type": "stream",
     "text": [
      "C:\\Users\\B042304\\AppData\\Local\\Temp\\ipykernel_17372\\1331809403.py:12: UserWarning: pandas only supports SQLAlchemy connectable (engine/connection) or database string URI or sqlite3 DBAPI2 connection. Other DBAPI2 objects are not tested. Please consider using SQLAlchemy.\n",
      "  df = pd.read_sql_query(query, conn_p, chunksize=200000)\n"
     ]
    },
    {
     "name": "stdout",
     "output_type": "stream",
     "text": [
      "2020   6  -  2024-06-25 01:00:56.583697\n"
     ]
    },
    {
     "name": "stderr",
     "output_type": "stream",
     "text": [
      "C:\\Users\\B042304\\AppData\\Local\\Temp\\ipykernel_17372\\1331809403.py:12: UserWarning: pandas only supports SQLAlchemy connectable (engine/connection) or database string URI or sqlite3 DBAPI2 connection. Other DBAPI2 objects are not tested. Please consider using SQLAlchemy.\n",
      "  df = pd.read_sql_query(query, conn_p, chunksize=200000)\n"
     ]
    },
    {
     "name": "stdout",
     "output_type": "stream",
     "text": [
      "2020   7  -  2024-06-25 02:48:25.283892\n"
     ]
    },
    {
     "name": "stderr",
     "output_type": "stream",
     "text": [
      "C:\\Users\\B042304\\AppData\\Local\\Temp\\ipykernel_17372\\1331809403.py:12: UserWarning: pandas only supports SQLAlchemy connectable (engine/connection) or database string URI or sqlite3 DBAPI2 connection. Other DBAPI2 objects are not tested. Please consider using SQLAlchemy.\n",
      "  df = pd.read_sql_query(query, conn_p, chunksize=200000)\n"
     ]
    },
    {
     "name": "stdout",
     "output_type": "stream",
     "text": [
      "2020   8  -  2024-06-25 05:08:00.870837\n"
     ]
    },
    {
     "name": "stderr",
     "output_type": "stream",
     "text": [
      "C:\\Users\\B042304\\AppData\\Local\\Temp\\ipykernel_17372\\1331809403.py:12: UserWarning: pandas only supports SQLAlchemy connectable (engine/connection) or database string URI or sqlite3 DBAPI2 connection. Other DBAPI2 objects are not tested. Please consider using SQLAlchemy.\n",
      "  df = pd.read_sql_query(query, conn_p, chunksize=200000)\n"
     ]
    },
    {
     "name": "stdout",
     "output_type": "stream",
     "text": [
      "2020   9  -  2024-06-25 06:56:58.234234\n"
     ]
    },
    {
     "name": "stderr",
     "output_type": "stream",
     "text": [
      "C:\\Users\\B042304\\AppData\\Local\\Temp\\ipykernel_17372\\1331809403.py:12: UserWarning: pandas only supports SQLAlchemy connectable (engine/connection) or database string URI or sqlite3 DBAPI2 connection. Other DBAPI2 objects are not tested. Please consider using SQLAlchemy.\n",
      "  df = pd.read_sql_query(query, conn_p, chunksize=200000)\n"
     ]
    },
    {
     "name": "stdout",
     "output_type": "stream",
     "text": [
      "2020   10  -  2024-06-25 09:15:30.776519\n"
     ]
    },
    {
     "name": "stderr",
     "output_type": "stream",
     "text": [
      "C:\\Users\\B042304\\AppData\\Local\\Temp\\ipykernel_17372\\1331809403.py:12: UserWarning: pandas only supports SQLAlchemy connectable (engine/connection) or database string URI or sqlite3 DBAPI2 connection. Other DBAPI2 objects are not tested. Please consider using SQLAlchemy.\n",
      "  df = pd.read_sql_query(query, conn_p, chunksize=200000)\n"
     ]
    },
    {
     "name": "stdout",
     "output_type": "stream",
     "text": [
      "2020   11  -  2024-06-25 13:05:03.991314\n"
     ]
    },
    {
     "name": "stderr",
     "output_type": "stream",
     "text": [
      "C:\\Users\\B042304\\AppData\\Local\\Temp\\ipykernel_17372\\1331809403.py:12: UserWarning: pandas only supports SQLAlchemy connectable (engine/connection) or database string URI or sqlite3 DBAPI2 connection. Other DBAPI2 objects are not tested. Please consider using SQLAlchemy.\n",
      "  df = pd.read_sql_query(query, conn_p, chunksize=200000)\n"
     ]
    },
    {
     "name": "stdout",
     "output_type": "stream",
     "text": [
      "2020   12  -  2024-06-25 17:28:04.151777\n"
     ]
    }
   ],
   "source": [
    "ano = 2020\n",
    "mes = 1\n",
    "\n",
    "while(ano == 2020):\n",
    "    query = f\"\"\"\n",
    "        select DTA_RFC, NUM_PES, COD_PDT, NUM_BNF_INS, VLR_LPA, VLR_LPA_DPN_ONL, VLR_LPA_DPN_CNL\n",
    "        from SHARE.[MERCANTIL\\B031684].[TB_TC_LPA_INSS_HST_2020]\n",
    "        where year(dta_rfc) = {ano}\n",
    "        and month(dta_rfc) = {mes}\n",
    "    \"\"\"\n",
    "\n",
    "    df = pd.read_sql_query(query, conn_p, chunksize=200000)\n",
    "\n",
    "    cur_snow.fast_executemany = True\n",
    "\n",
    "    i = 1\n",
    "\n",
    "    for chunk in df:\n",
    "\n",
    "        # Substituir valores NaN por 0 no DataFrame\n",
    "        chunk = chunk.fillna(0)\n",
    "        \n",
    "        # Converter colunas para string\n",
    "        chunk = chunk.astype(str)\n",
    "\n",
    "        # Preparar os dados para inserção em formato de lista de tuplas\n",
    "        data_to_insert = [tuple(row) for row in chunk.values]\n",
    "\n",
    "        # Inserir os dados na tabela do Snowflake\n",
    "        insert_query = \"\"\"INSERT INTO SDX_GERENCIA_CRESCIMENTO.CONHECIMENTO_CLIENTE_SILVER.B042304_TC_LPA_INSS\n",
    "        (DTA_RFC, NUM_PES, NUM_BNF_INS, COD_PDT, VLR_LPA, VLR_LPA_DPN_CNL, VLR_LPA_DPN_ONL)\n",
    "        VALUES (%s,%s,%s,%s,%s,%s,%s)\"\"\"\n",
    "\n",
    "        cur_snow.executemany(insert_query, data_to_insert)\n",
    "        conn_snow.commit()\n",
    "\n",
    "        i += 1\n",
    "\n",
    "    conn_snow.commit()\n",
    "    \n",
    "    print(ano, ' ', mes, ' - ', datetime.datetime.now())\n",
    "\n",
    "    if(mes == 12):\n",
    "        mes = 1\n",
    "        ano += 1\n",
    "    else:\n",
    "        mes += 1"
   ]
  }
 ],
 "metadata": {
  "kernelspec": {
   "display_name": "Python 3",
   "language": "python",
   "name": "python3"
  },
  "language_info": {
   "codemirror_mode": {
    "name": "ipython",
    "version": 3
   },
   "file_extension": ".py",
   "mimetype": "text/x-python",
   "name": "python",
   "nbconvert_exporter": "python",
   "pygments_lexer": "ipython3",
   "version": "3.11.3"
  }
 },
 "nbformat": 4,
 "nbformat_minor": 2
}
